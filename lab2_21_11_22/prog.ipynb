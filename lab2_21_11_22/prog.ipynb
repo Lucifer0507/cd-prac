{
 "cells": [
  {
   "cell_type": "code",
   "execution_count": 1,
   "id": "acdd43cd",
   "metadata": {},
   "outputs": [],
   "source": [
    "rd=open('cd.txt','r')\n"
   ]
  },
  {
   "cell_type": "code",
   "execution_count": 2,
   "id": "f55e3755",
   "metadata": {},
   "outputs": [],
   "source": [
    "loop=[]\n"
   ]
  },
  {
   "cell_type": "code",
   "execution_count": 3,
   "id": "3bc78ee0",
   "metadata": {},
   "outputs": [],
   "source": [
    "\n",
    "count=0"
   ]
  },
  {
   "cell_type": "code",
   "execution_count": 4,
   "id": "1e473f95",
   "metadata": {},
   "outputs": [
    {
     "name": "stdout",
     "output_type": "stream",
     "text": [
      "LIne1: 1. count = 0\n",
      "LIne2: 2. Result = 0\n",
      "LIne3: 3. If count &gt; 20 GOTO 8\n",
      "LIne4: 4. count=count + 1\n",
      "LIne5: 5. increment = 2 * count\n",
      "LIne6: 6. result = result +increment\n",
      "LIne7: 7. GOTO 3\n",
      "LIne8: 8. end\n"
     ]
    }
   ],
   "source": [
    "while True:\n",
    "    count+=1\n",
    "    line=rd.readline()\n",
    "    \n",
    "    if not line:\n",
    "        break\n",
    "    loop.append(line)\n",
    "    print(\"LIne{}: {}\".format(count,line.strip()))"
   ]
  },
  {
   "cell_type": "code",
   "execution_count": 5,
   "id": "2afa7c60",
   "metadata": {},
   "outputs": [],
   "source": [
    "l1=[]\n",
    "res=[]\n",
    "for i in loop:\n",
    "    l1.append(i)\n",
    "    if 'If' in i:\n",
    "        r=l1.pop()\n",
    "        res.append(l1[0])\n",
    "        res.append(r)\n",
    "        l1=[]\n",
    "    elif 'GOTO' in i:\n",
    "        res.append(l1[0])\n",
    "        l1=[]\n",
    "res.append(loop[-1])\n",
    "        \n",
    "    "
   ]
  },
  {
   "cell_type": "code",
   "execution_count": 6,
   "id": "fd58e138",
   "metadata": {},
   "outputs": [
    {
     "name": "stdout",
     "output_type": "stream",
     "text": [
      "['1. count = 0\\n', '2. Result = 0\\n', '3. If count &gt; 20 GOTO 8\\n', '4. count=count + 1\\n', '5. increment = 2 * count\\n', '6. result = result +increment\\n', '7. GOTO 3\\n', '8. end']\n"
     ]
    }
   ],
   "source": [
    "print(loop)"
   ]
  },
  {
   "cell_type": "code",
   "execution_count": 7,
   "id": "9988d0e7",
   "metadata": {},
   "outputs": [
    {
     "name": "stdout",
     "output_type": "stream",
     "text": [
      "['1. count = 0\\n', '3. If count &gt; 20 GOTO 8\\n', '4. count=count + 1\\n', '8. end']\n"
     ]
    }
   ],
   "source": [
    "print(res)"
   ]
  },
  {
   "cell_type": "code",
   "execution_count": null,
   "id": "b4b670da",
   "metadata": {},
   "outputs": [],
   "source": []
  }
 ],
 "metadata": {
  "kernelspec": {
   "display_name": "Python 3.7.0 64-bit",
   "language": "python",
   "name": "python3"
  },
  "language_info": {
   "codemirror_mode": {
    "name": "ipython",
    "version": 3
   },
   "file_extension": ".py",
   "mimetype": "text/x-python",
   "name": "python",
   "nbconvert_exporter": "python",
   "pygments_lexer": "ipython3",
   "version": "3.7.0"
  },
  "vscode": {
   "interpreter": {
    "hash": "274151d698111ee982765b9db49955f5a5cfe749d3ba1338329426353813ea05"
   }
  }
 },
 "nbformat": 4,
 "nbformat_minor": 5
}
