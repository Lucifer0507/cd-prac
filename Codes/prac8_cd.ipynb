{
 "cells": [
  {
   "attachments": {},
   "cell_type": "markdown",
   "metadata": {},
   "source": [
    "#### Name:- Krishna Mundada <br/> Roll No:- 45 <br/> Topic:- Compiler Design Lab 8"
   ]
  },
  {
   "attachments": {},
   "cell_type": "markdown",
   "metadata": {},
   "source": [
    "TASK A\n",
    "Consider the text file with following URL & perform the following operation using Regular Expression\n",
    "   url = 'https://www.gutenberg.org/files/2638/2638-0.txt'"
   ]
  },
  {
   "cell_type": "code",
   "execution_count": null,
   "metadata": {},
   "outputs": [],
   "source": [
    "import re\n",
    "import requests\n",
    "the_idiot_url = 'https://www.gutenberg.org/files/2638/2638-0.txt'\n",
    "\n",
    "def get_book(url):\n",
    "    # Sends a http request to get the text from project Gutenberg\n",
    "    raw = requests.get(url).text\n",
    "    # Discards the metadata from the beginning of the book\n",
    "    start = re.search(r\"\\*\\*\\* START OF THIS PROJECT GUTENBERG EBOOK .* \\*\\*\\*\",raw ).end()\n",
    "    # Discards the metadata from the end of the book\n",
    "    stop = re.search(r\"II\", raw).start()\n",
    "    # Keeps the relevant text\n",
    "    text = raw[start:stop]\n",
    "    return text\n",
    "\n",
    "def preprocess(sentence): \n",
    "    return re.sub('[^A-Za-z0-9.]+' , ' ', sentence).lower()\n",
    "\n",
    "book = get_book(the_idiot_url)\n",
    "processed_book = preprocess(book)\n",
    "print(processed_book)"
   ]
  },
  {
   "cell_type": "code",
   "execution_count": 3,
   "metadata": {},
   "outputs": [
    {
     "name": "stdout",
     "output_type": "stream",
     "text": [
      "302\n"
     ]
    }
   ],
   "source": [
    "# Q. 1 Find the number of the pronoun \"the\" in the corpus. Hint: Use the len() function.\n",
    "len(re.findall(r'the', processed_book))"
   ]
  },
  {
   "cell_type": "code",
   "execution_count": null,
   "metadata": {},
   "outputs": [],
   "source": [
    "#Try to convert every single stand-alone instance of 'i' to 'I' in the corpus. Make sure not to change the 'i' \n",
    "# occurring within a word:\n",
    "processed_book = re.sub(r'\\si\\s', \" I \", processed_book)\n",
    "print(processed_book)"
   ]
  },
  {
   "cell_type": "code",
   "execution_count": 4,
   "metadata": {},
   "outputs": [
    {
     "name": "stdout",
     "output_type": "stream",
     "text": [
      "96\n"
     ]
    }
   ],
   "source": [
    "# Find the number of times anyone was quoted (\"\") in the corpus.\n",
    "len(re.findall(r'\\”', book))"
   ]
  },
  {
   "cell_type": "code",
   "execution_count": 7,
   "metadata": {},
   "outputs": [
    {
     "name": "stdout",
     "output_type": "stream",
     "text": [
      "['ironical--it', 'malicious--smile', 'fur--or', 'astrachan--overcoat', 'it--the', 'Italy--was', 'malady--a', 'money--and', 'little--to', 'No--Mr', 'is--where', 'I--I', 'I--', '--though', 'crime--we', 'or--judge', 'gaiters--still', '--if', 'through--well', 'say--through', 'however--and', 'Epanchin--oh', 'too--at', 'was--and', 'Andreevitch--that', 'everyone--that', 'reduce--or', 'raise--to', 'listen--and', 'history--but', 'individual--one', 'yes--I', 'but--', 't--not', 'me--then', 'perhaps--', 'Yes--those', 'me--is', 'servility--if', 'Rogojin--hereditary', 'citizen--who', 'least--goodness', 'memory--but', 'latter--since', 'Rogojin--hung', 'him--I', 'anything--she', 'old--and', 'you--scarecrow', 'certainly--certainly', 'father--I', 'Barashkoff--I', 'see--and', 'everything--Lebedeff', 'about--he', 'now--I', 'Lihachof--', 'Zaleshoff--looking', 'old--fifty', 'so--and', 'this--do', 'day--not', 'that--', 'do--by', 'know--my', 'illness--I', 'well--here', 'fellow--you']\n"
     ]
    }
   ],
   "source": [
    "#What are the words connected by '--' in the corpus?\n",
    "re.findall(r'[a-zA-Z0-9]*--[a-zA-Z0-9]*', book)"
   ]
  },
  {
   "cell_type": "code",
   "execution_count": null,
   "metadata": {},
   "outputs": [],
   "source": [
    "#Find the numbers available in the text.\n"
   ]
  },
  {
   "attachments": {},
   "cell_type": "markdown",
   "metadata": {},
   "source": [
    "#### Phone Number Verification:"
   ]
  },
  {
   "cell_type": "code",
   "execution_count": 9,
   "metadata": {},
   "outputs": [],
   "source": [
    "# Problem Statement – The need to easily verify phone numbers in any relevant scenario.\n",
    "# Consider the following Phone numbers:\n",
    "# 444-122-1234\n",
    "# 123-122-78999\n",
    "# 111-123-23\n",
    "# 67-7890-2019\n",
    "import re\n",
    "phn = \"412-555-1212\"\n",
    "if re.search(\"w{3}-w{3}-w{4}\", phn):\n",
    "    print(\"Valid phone number\")"
   ]
  },
  {
   "attachments": {},
   "cell_type": "markdown",
   "metadata": {},
   "source": [
    "#### E-mail Verification:"
   ]
  },
  {
   "cell_type": "code",
   "execution_count": 10,
   "metadata": {},
   "outputs": [
    {
     "name": "stdout",
     "output_type": "stream",
     "text": [
      "Email Matches:  0\n"
     ]
    }
   ],
   "source": [
    "# Problem statement – To verify the validity of an E-mail address in any scenario.\n",
    "# Consider the following examples of email addresses:\n",
    "# Anirudh@gmail.com\n",
    "# Anirudh @ com\n",
    "# AC .com\n",
    "# 123 @.com\n",
    "# All E-mail addresses should include:\n",
    "# 1 to 20 lowercase and/or uppercase letters, numbers, plus . _ % +\n",
    "# An @ symbol\n",
    "# 2 to 20 lowercase and uppercase letters, numbers and plus\n",
    "# A period symbol\n",
    "# 2 to 3 lowercase and uppercase letters\n",
    "import re\n",
    "email = \"ac@aol.com md@.com @seo.com dc@.com\" \n",
    "print(\"Email Matches: \", len(re.findall(\"[w._%+-]{1,20}@[w.-]{2,20}.[A-Za-z]{2,3}\", email)))"
   ]
  },
  {
   "attachments": {},
   "cell_type": "markdown",
   "metadata": {},
   "source": [
    "#### Password Verification:"
   ]
  },
  {
   "cell_type": "code",
   "execution_count": 12,
   "metadata": {},
   "outputs": [
    {
     "name": "stdout",
     "output_type": "stream",
     "text": [
      "Valid Password\n"
     ]
    }
   ],
   "source": [
    "# Write a Python program to check the validity of a password using Regular expression.\n",
    "# Validation Rules:\n",
    "# At least 1 letter between [a-z A-Z].\n",
    "# At least 1 number between [0-9].\n",
    "# At least 1 character from [&#@].\n",
    "# Minimum length 6 characters.\n",
    "import re\n",
    "p= input(\"Input your password\")\n",
    "x = True\n",
    "while x:  \n",
    "    if (len(p)<6):\n",
    "        break\n",
    "    elif not re.search(\"[a-z]\",p):\n",
    "        break\n",
    "    elif not re.search(\"[0-9]\",p):\n",
    "        break\n",
    "    elif not re.search(\"[A-Z]\",p):\n",
    "        break\n",
    "    elif not re.search(\"[$#@]\",p):\n",
    "        break\n",
    "    elif re.search(\"\\s\",p):\n",
    "        break\n",
    "    else:\n",
    "        print(\"Valid Password\")\n",
    "        x=False\n",
    "        break\n",
    "if x:\n",
    "    print(\"Not a Valid Password\")\n"
   ]
  },
  {
   "attachments": {},
   "cell_type": "markdown",
   "metadata": {},
   "source": [
    "### Task C"
   ]
  },
  {
   "cell_type": "code",
   "execution_count": null,
   "metadata": {},
   "outputs": [],
   "source": [
    "# Problem Statement – Scrapping all of the phone numbers from a website for a requirement by making use of \n",
    "# Python Regular Expressions & save it in CSV/ list\n",
    "# Website URL: http://www.summet.com/dmsi/html/codesamples/addresses.html\n",
    "import urllib.request\n",
    "from re import findall\n",
    "url = \"<a href=\"http://www.summet.com/dmsi/html/codesamples/addresses.html\">http://www.summet.com/dmsi/html/codesamples/addresses.html</a>\"\n",
    "response = urllib.request.urlopen(url)\n",
    "html = response.read()\n",
    "htmlStr = html.decode()\n",
    "pdata = findall(\"(d{3}) d{3}-d{4}\", htmlStr)\n",
    "for item in pdata:\n",
    "    print(item)"
   ]
  }
 ],
 "metadata": {
  "kernelspec": {
   "display_name": "Python 3",
   "language": "python",
   "name": "python3"
  },
  "language_info": {
   "codemirror_mode": {
    "name": "ipython",
    "version": 3
   },
   "file_extension": ".py",
   "mimetype": "text/x-python",
   "name": "python",
   "nbconvert_exporter": "python",
   "pygments_lexer": "ipython3",
   "version": "3.9.5"
  },
  "orig_nbformat": 4,
  "vscode": {
   "interpreter": {
    "hash": "b667cebad148e7b094a58ee81f940c685de1dd70a003a9ccdca4a5792431bee5"
   }
  }
 },
 "nbformat": 4,
 "nbformat_minor": 2
}
